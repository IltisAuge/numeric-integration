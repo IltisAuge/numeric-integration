{
 "cells": [
  {
   "cell_type": "markdown",
   "id": "b364d1af",
   "metadata": {},
   "source": [
    "Hier beginnt unser Notebook"
   ]
  },
  {
   "cell_type": "code",
   "execution_count": 1,
   "id": "637e8474-ed68-4a06-a2b1-50121f563f7b",
   "metadata": {},
   "outputs": [
    {
     "name": "stdout",
     "output_type": "stream",
     "text": [
      "Hello World\n"
     ]
    }
   ],
   "source": [
    "print(\"Hello World\")"
   ]
  },
  {
   "cell_type": "code",
   "execution_count": null,
   "id": "267e69ef-0549-4074-879d-a3432515daae",
   "metadata": {},
   "outputs": [],
   "source": []
  }
 ],
 "metadata": {
  "kernelspec": {
   "display_name": "Python 3 (ipykernel)",
   "language": "python",
   "name": "python3"
  },
  "language_info": {
   "codemirror_mode": {
    "name": "ipython",
    "version": 3
   },
   "file_extension": ".py",
   "mimetype": "text/x-python",
   "name": "python",
   "nbconvert_exporter": "python",
   "pygments_lexer": "ipython3",
   "version": "3.12.7"
  }
 },
 "nbformat": 4,
 "nbformat_minor": 5
}
